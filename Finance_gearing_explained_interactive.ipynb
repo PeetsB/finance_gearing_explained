{
 "cells": [
  {
   "cell_type": "code",
   "execution_count": 153,
   "metadata": {},
   "outputs": [],
   "source": [
    "from __future__ import print_function\n",
    "from ipywidgets import interact, interactive, fixed, interact_manual\n",
    "import ipywidgets as widgets\n",
    "\n",
    "import pandas as pd\n",
    "import numpy as np\n",
    "from datetime import date"
   ]
  },
  {
   "cell_type": "code",
   "execution_count": 154,
   "metadata": {},
   "outputs": [],
   "source": [
    "Years = 10\n",
    "start_date = (date(2019,1,1))"
   ]
  },
  {
   "cell_type": "code",
   "execution_count": 155,
   "metadata": {},
   "outputs": [],
   "source": [
    "rng = pd.date_range(start_date, periods=Years, freq='AS')\n",
    "rng.name = \"Payment_Date\""
   ]
  },
  {
   "cell_type": "code",
   "execution_count": 156,
   "metadata": {},
   "outputs": [],
   "source": [
    "df = pd.DataFrame(index=rng,columns=['Project_CF', 'Investor_CF', 'Owner_CF'], dtype='float')\n",
    "df.reset_index(inplace=True)\n",
    "df.index += 1\n",
    "df.index.name = \"Period\""
   ]
  },
  {
   "cell_type": "code",
   "execution_count": 157,
   "metadata": {},
   "outputs": [],
   "source": [
    "Project_Costs = widgets.IntText(min=0, max=1000, step=1, description='Project Costs:', value=100)\n",
    "Project_IRR   = widgets.IntText(min=0, max=100,  step=1, description='Project IRR  :', value=8)\n",
    "Investor_IRR  = widgets.IntText(min=0, max=100,  step=1, description='Investor IRR :', value=5)\n",
    "Gearing       = widgets.IntText(min=0, max=100,  step=1, description='Gearing      :', value=50)"
   ]
  },
  {
   "cell_type": "code",
   "execution_count": 169,
   "metadata": {},
   "outputs": [],
   "source": [
    "def Calc_Owner_IRR(Project_Costs, Project_IRR, Investor_IRR, Gearing):\n",
    "    df['Project_CF'].iloc[0] = -Project_Costs\n",
    "    df['Project_CF'].iloc[1:10]= Project_Costs * Project_IRR/100.\n",
    "    df['Project_CF'].iloc[9] = df['Project_CF'].iloc[9] + Project_Costs\n",
    "    df['Investor_CF'].iloc[0] = - Project_Costs * Gearing/100.\n",
    "    df['Investor_CF'].iloc[1:10]= - df['Investor_CF'].iloc[0] * Investor_IRR/100.\n",
    "    df['Investor_CF'].iloc[9] = df['Investor_CF'].iloc[9] - df['Investor_CF'].iloc[0]\n",
    "    df['Owner_CF']=df['Project_CF']-df['Investor_CF']\n",
    "    Owners_IRR = np.irr(df.Owner_CF.values)\n",
    "    print(\"Owner IRR: \"+\"{:.2%}\".format(Owners_IRR))\n",
    "#   check of IRR is correct NPV=0\n",
    "#    print(\"Owner NPV: \"+\"{:.2}\".format(np.npv(Owners_IRR,df.Owner_CF.values)))"
   ]
  },
  {
   "cell_type": "code",
   "execution_count": 168,
   "metadata": {},
   "outputs": [
    {
     "data": {
      "application/vnd.jupyter.widget-view+json": {
       "model_id": "58e40f463d03411e82e983a37e9f1fbe",
       "version_major": 2,
       "version_minor": 0
      },
      "text/plain": [
       "HBox(children=(VBox(children=(IntText(value=100, description='Project Costs:'), IntText(value=8, description='…"
      ]
     },
     "metadata": {},
     "output_type": "display_data"
    }
   ],
   "source": [
    "out = widgets.interactive_output(Calc_Owner_IRR, {'Project_Costs': Project_Costs, 'Project_IRR': Project_IRR, 'Investor_IRR': Investor_IRR, 'Gearing': Gearing})\n",
    "\n",
    "widgets.HBox([widgets.VBox([Project_Costs, Project_IRR, Investor_IRR, Gearing]), out])\n"
   ]
  },
  {
   "cell_type": "code",
   "execution_count": null,
   "metadata": {},
   "outputs": [],
   "source": []
  },
  {
   "cell_type": "code",
   "execution_count": null,
   "metadata": {},
   "outputs": [],
   "source": []
  },
  {
   "cell_type": "code",
   "execution_count": null,
   "metadata": {},
   "outputs": [],
   "source": []
  },
  {
   "cell_type": "code",
   "execution_count": null,
   "metadata": {},
   "outputs": [],
   "source": []
  }
 ],
 "metadata": {
  "kernelspec": {
   "display_name": "Python 3",
   "language": "python",
   "name": "python3"
  },
  "language_info": {
   "codemirror_mode": {
    "name": "ipython",
    "version": 3
   },
   "file_extension": ".py",
   "mimetype": "text/x-python",
   "name": "python",
   "nbconvert_exporter": "python",
   "pygments_lexer": "ipython3",
   "version": "3.6.8"
  }
 },
 "nbformat": 4,
 "nbformat_minor": 2
}
